{
 "cells": [
  {
   "cell_type": "code",
   "execution_count": 133,
   "metadata": {},
   "outputs": [],
   "source": [
    "import pandas as pd\n",
    "import numpy as np\n",
    "import matplotlib.pyplot as plt\n",
    "from scipy.interpolate import interp1d\n",
    "from scipy.optimize import least_squares\n",
    "from matplotlib import cm"
   ]
  },
  {
   "cell_type": "markdown",
   "metadata": {},
   "source": [
    "In this file, we are concerned with a 4-AUV formation, and obtaining a way to recover the shrimp position. \n",
    "\n",
    "To begin, we read in data of each AUV. Each of these contains information on when a signal occured.\n",
    "The data has already been processed, so that it only includes snapping shrimp present in every AUV. \n",
    "\n",
    "The first set of reads are for location data, and the second set of reads are timestamps of signals.\n",
    "\n",
    "The location data is a set of (x,y) coordinations at various time intervals."
   ]
  },
  {
   "cell_type": "code",
   "execution_count": 103,
   "metadata": {},
   "outputs": [],
   "source": [
    "init = pd.read_csv('locationData/time_wav5.csv', header=None).T\n",
    "u7 = pd.read_csv('locationData/unit7.csv')\n",
    "u8 = pd.read_csv('locationData/unit8.csv')\n",
    "u13 = pd.read_csv('locationData/unit13.csv')\n",
    "u20 = pd.read_csv('locationData/unit20.csv')\n",
    "\n",
    "u7snaps = pd.read_csv('PeakTimeLocationData/Unit7PeakTimes.csv', header=None, names = [\"dirtime\", \"reftime\"])\n",
    "u8snaps = pd.read_csv('PeakTimeLocationData/Unit8PeakTimes.csv', header=None, names = [\"dirtime\", \"reftime\"])\n",
    "u13snaps = pd.read_csv('PeakTimeLocationData/Unit13PeakTimes.csv', header=None, names = [\"dirtime\", \"reftime\"])\n",
    "u20snaps = pd.read_csv('PeakTimeLocationData/Unit20PeakTimes.csv', header=None, names = [\"dirtime\", \"reftime\"])\n",
    "startTime = init.iloc[1][0]\n",
    "endTime = init.iloc[1][1]\n"
   ]
  },
  {
   "cell_type": "code",
   "execution_count": 104,
   "metadata": {},
   "outputs": [],
   "source": [
    "#This \"normalizes\" the location data present to start at ~0. \n",
    "u7['GPS_time']=u7['GPS_time']-startTime\n",
    "u8['GPS_time']=u8['GPS_time']-startTime\n",
    "u13['GPS_time']=u13['GPS_time']-startTime\n",
    "u20['GPS_time']=u20['GPS_time']-startTime\n"
   ]
  },
  {
   "cell_type": "markdown",
   "metadata": {},
   "source": [
    "We interpolate the location data."
   ]
  },
  {
   "cell_type": "code",
   "execution_count": 106,
   "metadata": {},
   "outputs": [],
   "source": [
    "u7 = u7[u7['GPS_time'] <= 1100]  \n",
    "u8 = u8[u8['GPS_time'] <= 1100]  \n",
    "u13 = u13[u13['GPS_time'] <= 1100]  \n",
    "u20 = u20[u20['GPS_time'] <= 1100] \n",
    "\n",
    "tnew = np.linspace(20, 1000, num=981)\n",
    "u7pos = pd.DataFrame({'time':tnew, 'xpos':interp1d(u7['GPS_time'], u7['x'], kind='nearest')(tnew),\n",
    "                      'ypos':interp1d(u7['GPS_time'], u7['y'], kind='nearest')(tnew)})\n",
    "\n",
    "u8pos = pd.DataFrame({'time':tnew, 'xpos':interp1d(u8['GPS_time'], u8['x'], kind='nearest')(tnew),\n",
    "                      'ypos':interp1d(u8['GPS_time'], u8['y'], kind='nearest')(tnew)})\n",
    "\n",
    "u13pos = pd.DataFrame({'time':tnew, 'xpos':interp1d(u13['GPS_time'], u13['x'], kind='nearest')(tnew),\n",
    "                      'ypos':interp1d(u13['GPS_time'], u13['y'], kind='nearest')(tnew)})\n",
    "\n",
    "u20pos = pd.DataFrame({'time':tnew, 'xpos':interp1d(u20['GPS_time'], u20['x'], kind='nearest')(tnew),\n",
    "                      'ypos':interp1d(u20['GPS_time'], u20['y'], kind='nearest')(tnew)})"
   ]
  },
  {
   "cell_type": "markdown",
   "metadata": {},
   "source": [
    "An example of our interpolated (x,y) locations for AUV 7."
   ]
  },
  {
   "cell_type": "code",
   "execution_count": 72,
   "metadata": {},
   "outputs": [
    {
     "data": {
      "image/png": "[encoded data removed]",
      "text/plain": [
       "<matplotlib.figure.Figure at 0x7f43ab5c6828>"
      ]
     },
     "metadata": {},
     "output_type": "display_data"
    }
   ],
   "source": [
    "plt.plot(u7pos['xpos'], u7pos['ypos'])\n",
    "plt.show();"
   ]
  },
  {
   "cell_type": "markdown",
   "metadata": {},
   "source": [
    "For each AUV data, we round each snap, and get the position of the AUV at the time of each snap.  "
   ]
  },
  {
   "cell_type": "code",
   "execution_count": 124,
   "metadata": {},
   "outputs": [],
   "source": [
    "u7snaps['dirtimer'] = u7snaps['dirtime'].round()\n",
    "u7snaps = u7snaps.loc[:, ['dirtime', 'dirtimer']];\n",
    "u7postime = u7pos.loc[u7pos['time'].isin(u7snaps[u7snaps['dirtimer'] < 1000]['dirtimer'])]\n",
    "u7postime = u7postime.drop_duplicates()\n",
    "\n",
    "u8snaps['dirtimer'] = u8snaps['dirtime'].round()\n",
    "u8snaps = u8snaps.loc[:, ['dirtime', 'dirtimer']];\n",
    "u8postime = u8pos.loc[u8pos['time'].isin(u8snaps[u8snaps['dirtimer'] < 1000]['dirtimer'])]\n",
    "u8postime = u8postime.drop_duplicates()\n",
    "\n",
    "u13snaps['dirtimer'] = u13snaps['dirtime'].round()\n",
    "u13snaps = u13snaps.loc[:, ['dirtime', 'dirtimer']];\n",
    "u13postime = u13pos.loc[u13pos['time'].isin(u13snaps[u13snaps['dirtimer'] < 1000]['dirtimer'])]\n",
    "u13postime = u13postime.drop_duplicates()\n",
    "\n",
    "u20snaps['dirtimer'] = u20snaps['dirtime'].round()\n",
    "u20snaps = u20snaps.loc[:, ['dirtime', 'dirtimer']];\n",
    "u20postime = u20pos.loc[u20pos['time'].isin(u20snaps[u20snaps['dirtimer'] < 1000]['dirtimer'])]\n",
    "u20postime = u20postime.drop_duplicates()"
   ]
  },
  {
   "cell_type": "markdown",
   "metadata": {},
   "source": [
    "The next set of code gets time of arrivals of every snap present across all AUVs."
   ]
  },
  {
   "cell_type": "code",
   "execution_count": 134,
   "metadata": {},
   "outputs": [],
   "source": [
    "direct = pd.DataFrame()\n",
    "\n",
    "direct['u7dir'] = u7snaps[u7snaps['dirtimer'] < 1000]['dirtime']\n",
    "direct['u8dir'] = u8snaps[u8snaps['dirtimer'] < 1000]['dirtime']\n",
    "direct['u13dir'] = u13snaps[u13snaps['dirtimer'] < 1000]['dirtime']\n",
    "direct['u20dir'] = u20snaps[u20snaps['dirtimer'] < 1000]['dirtime']\n",
    "\n",
    "dirdiff = pd.DataFrame()\n",
    "dirdiff['7-8'] = direct['u7dir']-direct['u8dir']\n",
    "dirdiff['7-13'] = direct['u7dir']-direct['u13dir']\n",
    "dirdiff['7-20'] = direct['u7dir']-direct['u20dir']\n",
    "dirdiff['8-13'] = direct['u8dir']-direct['u13dir']\n",
    "dirdiff['8-20'] = direct['u8dir']-direct['u20dir']\n",
    "dirdiff['13-20'] = direct['u13dir']-direct['u20dir']\n",
    "\n",
    "dirdiff.insert(0, \"time\", u7snaps['dirtimer'])\n"
   ]
  },
  {
   "cell_type": "markdown",
   "metadata": {},
   "source": [
    "Now, we develop some functions to \n",
    "\n",
    "1. Get the 4 positions at each time. The input should be a time of a snap.\n",
    "2. Get the time difference of each snap to every other AUV. The input should be a time of a snap."
   ]
  },
  {
   "cell_type": "code",
   "execution_count": 135,
   "metadata": {},
   "outputs": [],
   "source": [
    "def getPosAtTime(t):\n",
    "    u7p = u7postime.loc[u7postime['time']==t][['xpos','ypos']]\n",
    "    u8p = u8postime.loc[u8postime['time']==t][['xpos','ypos']]\n",
    "    u13p = u13postime.loc[u13postime['time']==t][['xpos','ypos']]\n",
    "    u20p = u20postime.loc[u20postime['time']==t][['xpos','ypos']]\n",
    "    return [u7p, u8p, u13p, u20p]\n",
    "\n",
    "#getTimeDiff at signal specified at second s\n",
    "def getTimeDiffAtTime(t):\n",
    "    return dirdiff.loc[dirdiff['time']==t].values[0][1:7]\n"
   ]
  },
  {
   "cell_type": "markdown",
   "metadata": {},
   "source": [
    "Examples below. There is a snap at t=26 seconds"
   ]
  },
  {
   "cell_type": "code",
   "execution_count": 136,
   "metadata": {},
   "outputs": [],
   "source": [
    "auvPos = getPosAtTime(26)"
   ]
  },
  {
   "cell_type": "markdown",
   "metadata": {},
   "source": [
    "The next two functions are copied from a previous notebook. The first gets the position difference of every AUV from a \"guessed\" shrimp position.\n",
    "\n",
    "The second one is a loss function, which we are trying to minimize (by repeatedly calling with different inputs (\"guessed shrimp position\")"
   ]
  },
  {
   "cell_type": "code",
   "execution_count": 131,
   "metadata": {},
   "outputs": [],
   "source": [
    "\n",
    "def getDiffFromShrimp(shrimpPos):\n",
    "    diff = [[0,0],[0,0],[0,0],[0,0]]\n",
    "    for i in range(len(auvPos)):\n",
    "        #print(shrimpPos[0])\n",
    "        #print(auvPos[i][0])\n",
    "        #print(shrimpPos[0])\n",
    "        diff[i] = [float(shrimpPos[0] - auvPos[i]['xpos']), float(shrimpPos[1] - auvPos[i]['ypos'])];\n",
    "    return diff\n",
    "\n",
    "\n",
    "def loss(s):\n",
    "    error = np.zeros(6)\n",
    "    k = 0\n",
    "    diff = getDiffFromShrimp(s)\n",
    "    for i in range(4):\n",
    "        for j in range(i+1,4):\n",
    "            #print(i,j)\n",
    "            #print(s)\n",
    "            error[k] = timediff[k]*1498-(np.linalg.norm(diff[i])-np.linalg.norm(diff[j]))\n",
    "            \n",
    "            k = k+1\n",
    "    return error\n"
   ]
  },
  {
   "cell_type": "markdown",
   "metadata": {},
   "source": [
    "Next, we perform out algorithm on every snap present, with an initial guessed location of (-200, -80). Clearly, our results are not the greatest as we are\n",
    "recovering locations over 1 million meters away. Regardless...\n",
    "\n"
   ]
  },
  {
   "cell_type": "code",
   "execution_count": 149,
   "metadata": {},
   "outputs": [
    {
     "data": {
      "image/png": "[encoded data removed]",
      "text/plain": [
       "<matplotlib.figure.Figure at 0x7f43a715b160>"
      ]
     },
     "metadata": {},
     "output_type": "display_data"
    }
   ],
   "source": [
    "co=0\n",
    "colors2 = cm.autumn(np.linspace(0,1,266))\n",
    "\n",
    "for i in dirdiff['time']:\n",
    "    auvPos = getPosAtTime(i)\n",
    "    timediff = getTimeDiffAtTime(i)\n",
    "    try:\n",
    "        initial_estimates=[-200,-80]\n",
    "        res = least_squares(loss, initial_estimates)\n",
    "        plt.scatter(res.x[0],res.x[1],c=colors2[co], cmap=cm.hot, linewidth=0.0)\n",
    "    except TypeError:\n",
    "        continue\n",
    "    co = (co + 1)\n",
    "\n",
    "plt.rc('xtick', labelsize=15) \n",
    "plt.rc('ytick', labelsize=15) \n",
    "plt.rc('axes', labelsize=20) \n",
    "plt.xlabel('x-axis (m)')\n",
    "plt.ylabel('y-axis (m)')\n",
    "plt.show()\n",
    "\n",
    "    "
   ]
  },
  {
   "cell_type": "markdown",
   "metadata": {},
   "source": [
    "We present an example with an inidivual snap that occurs at time t=89s. The AUV locations are labelled in blue, and a recovered shrimp location is labelled with an x. With a guessed position of (50,50) the recovered locations is (-300, 500). Not bad!"
   ]
  },
  {
   "cell_type": "code",
   "execution_count": 155,
   "metadata": {},
   "outputs": [
    {
     "data": {
      "image/png": "[encoded data removed]",
      "text/plain": [
       "<matplotlib.figure.Figure at 0x7f43a7173908>"
      ]
     },
     "metadata": {},
     "output_type": "display_data"
    }
   ],
   "source": [
    "i = 89\n",
    "auvPos = getPosAtTime(i)\n",
    "#print(auvPos)\n",
    "timediff = getTimeDiffAtTime(i)\n",
    "init = [50,50]\n",
    "res = least_squares(loss, init)\n",
    "plt.scatter(res.x[0],res.x[1],marker='x',c='r')\n",
    "\n",
    "plt.scatter(auvPos[0]['xpos'],auvPos[0]['ypos'],c='b')\n",
    "plt.scatter(auvPos[1]['xpos'],auvPos[1]['ypos'],c='b')\n",
    "plt.scatter(auvPos[2]['xpos'],auvPos[2]['ypos'],c='b')\n",
    "plt.scatter(auvPos[3]['xpos'],auvPos[3]['ypos'],c='b')\n",
    "        \n",
    "plt.xlabel('x-axis (m)')\n",
    "plt.ylabel('y-axis (m)')\n",
    "plt.rc('xtick', labelsize=15) \n",
    "plt.rc('ytick', labelsize=15) \n",
    "plt.rc('axes', labelsize=20) \n",
    "plt.show();\n"
   ]
  },
  {
   "cell_type": "markdown",
   "metadata": {},
   "source": [
    "Based on our previous conclusion, we do not beleive our data is accurate for shrimp locations that are far away relative to the distance between each of the 4 AUVs."
   ]
  },
  {
   "cell_type": "code",
   "execution_count": null,
   "metadata": {},
   "outputs": [],
   "source": []
  }
 ],
 "metadata": {
  "kernelspec": {
   "display_name": "Python 3",
   "language": "python",
   "name": "python3"
  },
  "language_info": {
   "codemirror_mode": {
    "name": "ipython",
    "version": 3
   },
   "file_extension": ".py",
   "mimetype": "text/x-python",
   "name": "python",
   "nbconvert_exporter": "python",
   "pygments_lexer": "ipython3",
   "version": "3.5.2"
  }
 },
 "nbformat": 4,
 "nbformat_minor": 2
}
