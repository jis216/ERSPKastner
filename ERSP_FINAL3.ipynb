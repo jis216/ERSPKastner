{
 "cells": [
  {
   "cell_type": "code",
   "execution_count": 1,
   "metadata": {
    "collapsed": true
   },
   "outputs": [],
   "source": [
    "import random as rand\n",
    "import numpy as np\n",
    "import matplotlib.pyplot as plt\n",
    "from scipy.optimize import least_squares\n"
   ]
  },
  {
   "cell_type": "markdown",
   "metadata": {
    "collapsed": true
   },
   "source": [
    "In this notebook, we present a model for obtaining the location of a shrimp given 4 AUVs, and the time difference of arrivals of a snaps between each AUV. In this notebook, we simulate the location of a shrimp, \"emit\" a snap, record the location of arrivals. Then, we attempt to recover the location of the shrimp. Some results are printed. \n",
    "\n",
    "In our model, we use 4 AUVs and a shrimp, each with a (x,y) coordinate position. From this, we have to recover the shrimp (x,y). \n",
    "\n",
    "Geometrically, this makes sense. If an AUV hears a noise before another one does, the shrimp is closest to that AUV. Likewise, if we hear a noise after everyone else, the AUV is furthest from that AUV. "
   ]
  },
  {
   "cell_type": "code",
   "execution_count": 2,
   "metadata": {
    "collapsed": true
   },
   "outputs": [],
   "source": [
    "#Gets the difference in position in terms of distance\n",
    "def getDiffFromShrimp(shrimpPos, auvPos):\n",
    "    diff = [[0,0],[0,0],[0,0],[0,0]]\n",
    "\n",
    "    for i in range(len(auvPos)):\n",
    "        diff[i] = [shrimpPos[0] - auvPos[i][0],shrimpPos[1] - auvPos[i][1]];\n",
    "        \n",
    "    return diff\n"
   ]
  },
  {
   "cell_type": "code",
   "execution_count": 3,
   "metadata": {
    "collapsed": true
   },
   "outputs": [],
   "source": [
    "#gets magnitude of position difference between each auv position, and shrimp, in terms of distance\n",
    "def posdiffMagnitude(diff, error=0):\n",
    "    mag = [[0,0],[0,0],[0,0],[0,0],[0,0],[0,0]]\n",
    "    k = 0\n",
    "    for i in range(4):\n",
    "        for j in range(i+1, 4):\n",
    "            mag[k] = (np.linalg.norm(diff[i])-np.linalg.norm(diff[j]))\n",
    "            mag[k] = mag[k] + error;\n",
    "\n",
    "            k = k+1\n",
    "    return mag\n"
   ]
  },
  {
   "cell_type": "markdown",
   "metadata": {},
   "source": [
    "The first function gets the distance between the shrimp and each AUV. The second gets the difference in lengths of arrivals from each of the 2 AUVs.\n",
    "\n",
    "Now we create a setup. Each of the AUV's are 50 meters apart. Now, we setup our shrimpPosition "
   ]
  },
  {
   "cell_type": "code",
   "execution_count": 31,
   "metadata": {},
   "outputs": [
    {
     "name": "stdout",
     "output_type": "stream",
     "text": [
      "[18.362684616102193, 18.362684616102193, 56.568542494923804, 0.0, 38.205857878821611, 38.205857878821611]\n"
     ]
    }
   ],
   "source": [
    "auvPos = [[0,0],[0,0],[0,0],[0,0]]\n",
    "pivotAuv = [20, 20];\n",
    "auvPos[0] = pivotAuv;\n",
    "auvPos[1] = [pivotAuv[0]+50, pivotAuv[1]];\n",
    "auvPos[2] = [pivotAuv[0], pivotAuv[1]+50];\n",
    "auvPos[3] = [pivotAuv[0]+50, pivotAuv[1]+50];\n",
    "shrimpPos=[100,100]\n",
    "\n",
    "\n",
    "posidiff = posdiffMagnitude(getDiffFromShrimp(shrimpPos, auvPos))\n",
    "\n",
    "print(posidiff)"
   ]
  },
  {
   "cell_type": "markdown",
   "metadata": {},
   "source": [
    "Note that the 4th equation is 0. This makes sense because this is time difference of arrivals between \n",
    "AUVs 1 (70,20) and 2 (20, 70). The difference between these two points and (100,100) is 0. "
   ]
  },
  {
   "cell_type": "markdown",
   "metadata": {
    "collapsed": true
   },
   "source": [
    "A loss function that the NLLS attempts to minimize. "
   ]
  },
  {
   "cell_type": "code",
   "execution_count": 40,
   "metadata": {
    "collapsed": true
   },
   "outputs": [],
   "source": [
    "def loss(s):\n",
    "    error = np.zeros(6)\n",
    "    k = 0\n",
    "    diff = getDiffFromShrimp(s, auvPos)\n",
    "    for i in range(4):\n",
    "        for j in range(i+1,4):\n",
    "            #print(i,j)\n",
    "            error[k] = posidiff[k]-(np.linalg.norm(diff[i])-np.linalg.norm(diff[j]))\n",
    "            k = k+1\n",
    "    return error"
   ]
  },
  {
   "cell_type": "code",
   "execution_count": 41,
   "metadata": {
    "collapsed": true
   },
   "outputs": [],
   "source": [
    "#Code to recover the center of the 4 AUV formation.\n",
    "xsum = 0;\n",
    "ysum = 0;\n",
    "for i in range(4):\n",
    "    xsum = auvPos[i][0] + xsum;\n",
    "    ysum = auvPos[i][1] + ysum;\n",
    "\n",
    "center = [0,0];\n",
    "center[0] = xsum /4;\n",
    "center[1] = ysum/ 4;"
   ]
  },
  {
   "cell_type": "markdown",
   "metadata": {},
   "source": [
    "Now, we create an initial guess for our iterative solver. In this example, we show that as we move along the AUV formation, we can recover the initial position, except in one instance. This occurs because of precise symmetry in our model's coordinates. Along the top-left, bottom-right, we have perfect symmetry, and based on our initial guess, it recovers the \"other\" point. First, we color our guess with red. Then, we color our result with blue. If any red is leftover, we didn't recover that position. \n",
    "\n",
    "Adding some error, say 1e-2, the locations are recovered precisely."
   ]
  },
  {
   "cell_type": "code",
   "execution_count": 57,
   "metadata": {},
   "outputs": [
    {
     "data": {
      "image/png": "[encoded data removed]",
      "text/plain": [
       "<matplotlib.figure.Figure at 0x7fad38c594a8>"
      ]
     },
     "metadata": {},
     "output_type": "display_data"
    }
   ],
   "source": [
    "x,y = zip(*auvPos)\n",
    "\n",
    "ang_range = np.arange(0,2*np.pi,2*np.pi/72);\n",
    "#We have AUV positions..Now we evaluate accuracy based on distance\n",
    "shrimp_orig = [center[0], center[1]];\n",
    "plt.scatter(x,y);\n",
    "for i in ang_range:\n",
    "    shrimpPos = [shrimp_orig[0]+50*np.cos(i), shrimp_orig[1]+50*np.sin(i)];\n",
    "    posidiff = posdiffMagnitude(getDiffFromShrimp(shrimpPos, auvPos), error=1e-2)\n",
    "    res = least_squares(loss, initial)\n",
    "    plt.scatter(shrimpPos[0], shrimpPos[1], color='r')\n",
    "    plt.scatter(res.x[0], res.x[1], color='b')\n",
    "\n",
    "plt.show();\n",
    "\n"
   ]
  },
  {
   "cell_type": "markdown",
   "metadata": {},
   "source": [
    "Here we plot the error, if we add a bit of noise to our measurements of differences. Clearly, this result will be stellar."
   ]
  },
  {
   "cell_type": "code",
   "execution_count": 58,
   "metadata": {},
   "outputs": [
    {
     "data": {
      "image/png": "[encoded data removed]",
      "text/plain": [
       "<matplotlib.figure.Figure at 0x7fad38b20400>"
      ]
     },
     "metadata": {},
     "output_type": "display_data"
    }
   ],
   "source": [
    "shrimp_orig = [center[0], center[1]];\n",
    "#plt.scatter(x,y);\n",
    "for i in ang_range:\n",
    "    shrimpPos = [shrimp_orig[0]+50*np.cos(i), shrimp_orig[1]+50*np.sin(i)];\n",
    "    posidiff = getDiffFromShrimp(shrimpPos, auvPos)\n",
    "    posidiff = posdiffMagnitude(posidiff, error=1e-2)\n",
    "    res = least_squares(loss, initial)\n",
    "    result_angle = np.arctan2(res.x[1]-shrimp_orig[1], res.x[0]-shrimp_orig[0]) - np.arctan2(shrimpPos[1]-shrimp_orig[1], shrimpPos[0]-shrimp_orig[0]);\n",
    "    plt.scatter(i * 360/(2*np.pi), abs(result_angle * 360/(2*np.pi)), color='C0')\n",
    "\n",
    "plt.rc('axes', titlesize=25)     # fontsize of the axes title\n",
    "plt.rc('axes', labelsize=20)    # fontsize of the x and y labels\n",
    "plt.rc('xtick', labelsize=20)    # fontsize of the tick labels\n",
    "plt.xlabel(r'$ \\theta $');\n",
    "plt.ylabel(r'$| \\hat \\theta - \\theta |$')\n",
    "plt.ylim(0,0.2);\n",
    "plt.show();\n"
   ]
  },
  {
   "cell_type": "markdown",
   "metadata": {},
   "source": [
    "We present code to graph the accuracy of our model as our distance increases.\n",
    "\n",
    "How we do this: Move the known position distance (j) away. At each distance position, take the average of all the accuracies as we move around the center of the formation. "
   ]
  },
  {
   "cell_type": "code",
   "execution_count": 63,
   "metadata": {},
   "outputs": [
    {
     "data": {
      "image/png": "[encoded data removed]",
      "text/plain": [
       "<matplotlib.figure.Figure at 0x7fad38dc0630>"
      ]
     },
     "metadata": {},
     "output_type": "display_data"
    }
   ],
   "source": [
    "x,y = zip(*auvPos)\n",
    "direct_range = np.arange(0, 1000, 10);\n",
    "ang_range = np.arange(0,2*np.pi,2*np.pi/72);\n",
    "#We have AUV positions..Now we evaluate accuracy based on distance\n",
    "shrimp_orig = [center[0], center[1]];\n",
    "#plt.scatter(x,y);\n",
    "xvals = []\n",
    "yvals = []\n",
    "for j in direct_range:\n",
    "    result_diff = 0;\n",
    "    for i in ang_range:\n",
    "        shrimpPos = [shrimp_orig[0]+j*np.cos(i), shrimp_orig[1]+j*np.sin(i)];\n",
    "        posidiff = getDiffFromShrimp(shrimpPos, auvPos)\n",
    "        posidiff = posdiffMagnitude(posidiff, error=1e-2)\n",
    "        res = least_squares(loss, initial)\n",
    "        #plt.plot([initial[0],res.x[0]], [initial[1],res.x[1]])\n",
    "        #plt.plot([initial[0],shrimpPos[0]], [initial[1],shrimpPos[1]])\n",
    "        result_diff = result_diff + np.linalg.norm(shrimpPos-res.x);\n",
    "        #plt.scatter(res.x[0], res.x[1], color='b')    \n",
    "    result_diff = result_diff/72.0;\n",
    "    xvals.append(j)\n",
    "    yvals.append(abs(result_diff))\n",
    "\n",
    "plt.scatter(xvals[3:], yvals[3:]);\n",
    "plt.xlabel(\"$r$ (m)\");\n",
    "plt.ylabel(\"$| \\hat r - r |$ (m)\");\n",
    "plt.rc('axes', titlesize=25)     # fontsize of the axes title\n",
    "plt.rc('axes', labelsize=20)    # fontsize of the x and y labels\n",
    "plt.rc('xtick', labelsize=20)    # fontsize of the tick labels\n",
    "plt.rc('ytick', labelsize=20)    # fontsize of the tick labels\n",
    "\n",
    "plt.show();"
   ]
  },
  {
   "cell_type": "markdown",
   "metadata": {},
   "source": [
    "See that weird increase that near 180 meters? Lets look at it closer. When our angle is 225 degrees, we get a large error. That is because we do not converge to the right value at that point. "
   ]
  },
  {
   "cell_type": "code",
   "execution_count": 83,
   "metadata": {},
   "outputs": [
    {
     "data": {
      "image/png": "[encoded data removed]",
      "text/plain": [
       "<matplotlib.figure.Figure at 0x7fad3873d668>"
      ]
     },
     "metadata": {},
     "output_type": "display_data"
    }
   ],
   "source": [
    "for i in ang_range:\n",
    "    shrimpPos = [shrimp_orig[0]+180*np.cos(i), shrimp_orig[1]+180*np.sin(i)];\n",
    "    posidiff = getDiffFromShrimp(shrimpPos, auvPos)\n",
    "    posidiff = posdiffMagnitude(posidiff, error=1e-2)\n",
    "    res = least_squares(loss, initial)\n",
    "    result_diff = np.linalg.norm(shrimpPos-res.x);\n",
    "    plt.scatter(i * 360/(2*np.pi), abs(result_diff), color='C0')\n",
    "\n",
    "plt.show()\n",
    "\n"
   ]
  },
  {
   "cell_type": "code",
   "execution_count": 100,
   "metadata": {},
   "outputs": [
    {
     "data": {
      "image/png": "[encoded data removed]",
      "text/plain": [
       "<matplotlib.figure.Figure at 0x7fad3894ae80>"
      ]
     },
     "metadata": {},
     "output_type": "display_data"
    }
   ],
   "source": [
    "plt.scatter(x,y);\n",
    "\n",
    "shrimpPos = [shrimp_orig[0]+180*np.cos(ang_range[45]), shrimp_orig[1]+180*np.sin(ang_range[45])];\n",
    "posidiff = posdiffMagnitude(getDiffFromShrimp(shrimpPos, auvPos), error=1e-2)\n",
    "res = least_squares(loss, initial)\n",
    "plt.scatter(shrimpPos[0], shrimpPos[1], color='r')\n",
    "plt.scatter(res.x[0], res.x[1], color='b')\n",
    "plt.show();\n"
   ]
  },
  {
   "cell_type": "markdown",
   "metadata": {},
   "source": [
    "Clearly, it appears related to the fact that we are too close to one of our points, combined with symmetry concerns.\n",
    "\n",
    "We analyze the error in angle and distance as we increase our measurement accuracy."
   ]
  },
  {
   "cell_type": "code",
   "execution_count": 102,
   "metadata": {
    "scrolled": true
   },
   "outputs": [
    {
     "data": {
      "image/png": "[encoded data removed]",
      "text/plain": [
       "<matplotlib.figure.Figure at 0x7fad385a1b38>"
      ]
     },
     "metadata": {},
     "output_type": "display_data"
    }
   ],
   "source": [
    "\n",
    "#We have AUV positions..Now we evaluate accuracy based on distance\n",
    "shrimp_orig = [center[0], center[1]];\n",
    "#plt.scatter(x,y);\n",
    "for i in np.arange(-2,5,0.1):\n",
    "    shrimpPos = [shrimp_orig[0]+50*np.cos(0), shrimp_orig[1]+50*np.sin(0)];\n",
    "    posidiff = getDiffFromShrimp(shrimpPos, auvPos)\n",
    "    posidiff = posdiffMagnitude(posidiff, error=10**i)\n",
    "    res = least_squares(loss, initial)\n",
    "    #plt.plot([initial[0],res.x[0]], [initial[1],res.x[1]])\n",
    "    #plt.plot([initial[0],shrimpPos[0]], [initial[1],shrimpPos[1]])\n",
    "    result_angle = np.arctan2(res.x[1]-shrimp_orig[1], res.x[0]-shrimp_orig[0]) - np.arctan2(shrimpPos[1]-shrimp_orig[1], shrimpPos[0]-shrimp_orig[0]);\n",
    "    plt.scatter(10**i, abs(result_angle * 360/(2*np.pi)), color='C0')\n",
    "    #plt.scatter(res.x[0], res.x[1], color='b')\n",
    "\n",
    "plt.xscale('log')\n",
    "plt.rc('axes', titlesize=25)     # fontsize of the axes title\n",
    "plt.rc('axes', labelsize=20)    # fontsize of the x and y labels\n",
    "plt.rc('xtick', labelsize=20)    # fontsize of the tick labels\n",
    "plt.rc('ytick', labelsize=20)    # fontsize of the tick labels\n",
    "\n",
    "plt.xlabel(r'$ noise$ (m)');\n",
    "plt.ylabel(r'$| \\hat \\theta - \\theta |$')\n",
    "plt.show();\n"
   ]
  },
  {
   "cell_type": "code",
   "execution_count": 104,
   "metadata": {},
   "outputs": [
    {
     "data": {
      "image/png": "[encoded data removed]",
      "text/plain": [
       "<matplotlib.figure.Figure at 0x7fad386de9b0>"
      ]
     },
     "metadata": {},
     "output_type": "display_data"
    }
   ],
   "source": [
    "#We have AUV positions..Now we evaluate accuracy based on distance\n",
    "shrimp_orig = [center[0], center[1]];\n",
    "#plt.scatter(x,y);\n",
    "xvals = []\n",
    "yvals = []\n",
    "for j in np.arange(-2,5,0.1):\n",
    "    result_diff = 0;\n",
    "    shrimpPos = [shrimp_orig[0]+75, shrimp_orig[1]+75];\n",
    "    posidiff = getDiffFromShrimp(shrimpPos, auvPos)\n",
    "    posidiff = posdiffMagnitude(posidiff, error=10**j)\n",
    "    res = least_squares(loss, initial)\n",
    "    #plt.plot([initial[0],res.x[0]], [initial[1],res.x[1]])\n",
    "    #plt.plot([initial[0],shrimpPos[0]], [initial[1],shrimpPos[1]])\n",
    "    result_diff = result_diff + np.linalg.norm(shrimpPos-res.x);\n",
    "    #plt.scatter(res.x[0], res.x[1], color='b')    \n",
    "    #result_diff = result_diff/72.0;\n",
    "    xvals.append(10**j)\n",
    "    yvals.append(abs(result_diff))\n",
    "\n",
    "plt.scatter(xvals, yvals);\n",
    "plt.xscale('log')\n",
    "plt.rc('axes', titlesize=25)     # fontsize of the axes title\n",
    "plt.rc('axes', labelsize=20)    # fontsize of the x and y labels\n",
    "plt.rc('xtick', labelsize=20)    # fontsize of the tick labels\n",
    "plt.rc('ytick', labelsize=20)    # fontsize of the tick labels\n",
    "plt.xlim(10**(-2),10**4)\n",
    "plt.xlabel(r'$ noise $');\n",
    "plt.ylabel(r'$| \\hat r - r |$')\n",
    "plt.show();\n"
   ]
  },
  {
   "cell_type": "markdown",
   "metadata": {},
   "source": [
    "Conclusion: Our model does not work for accurately recovering the location once we reach about 2.5x the distance away the AUV's are from each other."
   ]
  },
  {
   "cell_type": "code",
   "execution_count": null,
   "metadata": {
    "collapsed": true
   },
   "outputs": [],
   "source": []
  }
 ],
 "metadata": {
  "kernelspec": {
   "display_name": "Python 3",
   "language": "python",
   "name": "python3"
  },
  "language_info": {
   "codemirror_mode": {
    "name": "ipython",
    "version": 3
   },
   "file_extension": ".py",
   "mimetype": "text/x-python",
   "name": "python",
   "nbconvert_exporter": "python",
   "pygments_lexer": "ipython3",
   "version": "3.6.3"
  }
 },
 "nbformat": 4,
 "nbformat_minor": 2
}
