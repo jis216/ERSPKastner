{
 "cells": [
  {
   "cell_type": "code",
   "execution_count": 122,
   "metadata": {},
   "outputs": [],
   "source": [
    "import numpy as np\n",
    "from scipy.io.wavfile import read\n",
    "from scipy import signal, arange\n",
    "from scipy.signal import hilbert, find_peaks_cwt\n",
    "import matplotlib.pyplot as plt\n",
    "import matplotlib.axes as matax\n",
    "import matplotlib.mlab as mlab\n",
    "import sys\n",
    "from math import exp\n",
    "import operator"
   ]
  },
  {
   "cell_type": "code",
   "execution_count": 123,
   "metadata": {},
   "outputs": [],
   "source": [
    "sampFreq7, unit7sampArray = read('unit7wav5.wav');\n",
    "sampFreq8, unit8sampArray = read('unit8wav5.wav');\n",
    "sampFreq13, unit13sampArray = read('unit13wav5.wav');\n",
    "sampFreq20, unit20sampArray = read('unit20wav5.wav');"
   ]
  },
  {
   "cell_type": "code",
   "execution_count": 124,
   "metadata": {},
   "outputs": [],
   "source": [
    "#sample frequency set equal to one of the sound files\n",
    "#sound frequency since it should be the same for all\n",
    "#files anyway\n",
    "sampFreq = sampFreq7\n",
    "\n",
    "#start time and duration measured in seconds\n",
    "startTime = 0;\n",
    "duration = duration = int(len(unit7sampArray)/sampFreq);\n",
    "\n",
    "#in seconds\n",
    "deadzoneInSeconds = 0.01\n",
    "\n",
    "###DO NOT CHANGE THE NEXT TWO VARIABLES!!! \n",
    "#IF CHANGED PLEASE RESET leftOffset TO 50 AND rightOffset to 200\n",
    "leftOffsetClassif = 50;  # how many frames we should expand the interval to the left (for the classfication algorithm)\n",
    "rightOffsetClassif = 200; # how many frames we should expand ther interval to the right (for the classificaiton algorithm)\n",
    "###DO NOT CHANGE THE LAST TWO VARIABLES!!!\n",
    "\n",
    "#The deltaT (in seconds) for finding the same snap, for now I'll set it as some number that's \n",
    "#somewhat reasonable? idk....\n",
    "deltaTinSeconds = 0.25;\n",
    "\n",
    "#actual array indexes for splicing\n",
    "startIndex = sampFreq * startTime;\n",
    "endIndex = startIndex + sampFreq * duration;\n",
    "\n",
    "\n",
    "unit7splicedArray = unit7sampArray[startIndex:endIndex];\n",
    "unit8splicedArray = unit8sampArray[startIndex:endIndex];\n",
    "unit13splicedArray = unit13sampArray[startIndex:endIndex];\n",
    "unit20splicedArray = unit20sampArray[startIndex:endIndex];"
   ]
  },
  {
   "cell_type": "code",
   "execution_count": 125,
   "metadata": {},
   "outputs": [],
   "source": [
    "#preparing 2 time arrays for the spliced signals for plotting (if needed) the x axis. \n",
    "#Indexes and seconds.\n",
    "timeArrayInIndexes = np.arange(0, endIndex-startIndex, 1)\n",
    "timeArrayInSeconds = timeArrayInIndexes / sampFreq"
   ]
  },
  {
   "cell_type": "code",
   "execution_count": 126,
   "metadata": {},
   "outputs": [],
   "source": [
    "#takes in the sliced array and \n",
    "#returns an array of indexes and seconds where the amplitude\n",
    "#is above the threshold. Already takes into account\n",
    "#the small deadzone\n",
    "def detectAboveThreshold(splicedArray):\n",
    "    #setting up the amplitude threshold\n",
    "    ampThreshold = np.std(splicedArray) * 10;\n",
    "    \n",
    "    #creates a boolean array for each index of the spiced sound array\n",
    "    #each index of this boolean array corresponds to 1 index of the \n",
    "    #spliced sound array. The value will be true if above threshold,\n",
    "    #false otherwise\n",
    "    aboveThres = splicedArray > ampThreshold \n",
    "    \n",
    "    #pick out the time when the amplitude is above threshold\n",
    "    # current = the first time in seconds frame has amplitude above threshold\n",
    "    # highAmplitudeSeconds = the time where each loud signal above threshold\n",
    "    # highAmplitudeIndexes = the time frame indices of each loud signal above threshold\n",
    "    highAmplitudeSeconds = [];\n",
    "    highAmplitudeIndexes = [];\n",
    "    current = timeArrayInSeconds[aboveThres][0] \n",
    "    \n",
    "    #initializing the arrays with the first values before the loop \n",
    "    highAmplitudeSeconds.append(current)\n",
    "    highAmplitudeIndexes.append(current * sampFreq)\n",
    "    \n",
    "    # set a deadzone (set to 0.01 seconds in the earlier cell) \n",
    "    # time window that slides across the current array\n",
    "    # so that we only collect one time data for each loud signal\n",
    "    for timeInSeconds in timeArrayInSeconds[aboveThres]: \n",
    "    \n",
    "        if (timeInSeconds > current + deadzoneInSeconds ):\n",
    "            highAmplitudeIndexes.append(timeInSeconds * sampFreq)\n",
    "            highAmplitudeSeconds.append(timeInSeconds)\n",
    "            current = timeInSeconds\n",
    "            \n",
    "    \n",
    "    return highAmplitudeIndexes, highAmplitudeSeconds;\n",
    "    "
   ]
  },
  {
   "cell_type": "code",
   "execution_count": 127,
   "metadata": {},
   "outputs": [],
   "source": [
    "#grabs the indexes and times when amplitude goes above threshold\n",
    "highAmpIndexesUnit7, highAmpSecondsUnit7 = detectAboveThreshold(unit7splicedArray)\n",
    "highAmpIndexesUnit8, highAmpSecondsUnit8 = detectAboveThreshold(unit8splicedArray)\n",
    "highAmpIndexesUnit13, highAmpSecondsUnit13 = detectAboveThreshold(unit13splicedArray)\n",
    "highAmpIndexesUnit20, highAmpSecondsUnit20 = detectAboveThreshold(unit20splicedArray)"
   ]
  },
  {
   "cell_type": "code",
   "execution_count": 128,
   "metadata": {},
   "outputs": [],
   "source": [
    "#a function that takes in the array of indexes of all signals (both snaps and pings)\n",
    "#above threshold and outputs the array of indexes where SNAPS were found. \n",
    "def getSnapIndexes(splicedArray, highAmpIndexes):\n",
    "    snapIndexes = [];\n",
    "    \n",
    "    for i in range(0, len(highAmpIndexes)):\n",
    "        frontIndex = int(highAmpIndexes[i] - leftOffsetClassif);\n",
    "        backIndex = int(highAmpIndexes[i] + rightOffsetClassif);\n",
    "        \n",
    "        signalForClassification = splicedArray[frontIndex:backIndex]\n",
    "        classification = classify(signalForClassification)\n",
    "        \n",
    "        \n",
    "        if(classification == \"Snap\"):\n",
    "            snapIndexes.append(highAmpIndexes[i]);\n",
    "        \n",
    "    \n",
    "    return snapIndexes;\n",
    "            "
   ]
  },
  {
   "cell_type": "code",
   "execution_count": 129,
   "metadata": {},
   "outputs": [],
   "source": [
    "def getFrequencies(signal):\n",
    "    length = len(signal) # length of the signal\n",
    "    #k = arange(length)\n",
    "    #T = length/sampFreq\n",
    "    #frq = k/T # two sides frequency range\n",
    "    #frq = frq[range(np.int(length/2))] # one side frequency range\n",
    "\n",
    "    frequencies = np.fft.fft(signal)/length # fft computing and normalization\n",
    "    frequencies = frequencies[range(np.int(length/2))]\n",
    "    \n",
    "    return abs(frequencies)"
   ]
  },
  {
   "cell_type": "code",
   "execution_count": 130,
   "metadata": {},
   "outputs": [],
   "source": [
    "#I did not change this snippet of code, it should be identical to the other one\n",
    "def getRatio(signal):\n",
    "    frequencies = getFrequencies(signal)\n",
    "    ratio = sum(frequencies[34:68] * 100/sum(frequencies))\n",
    "    return ratio;\n",
    "    "
   ]
  },
  {
   "cell_type": "code",
   "execution_count": 131,
   "metadata": {},
   "outputs": [],
   "source": [
    "#I did not change this snippet of code, it should be identical to the other one\n",
    "def classify(signal):\n",
    "    #print(len(signal))\n",
    "    \n",
    "    ratio = getRatio(signal)\n",
    "    #print(ratio)\n",
    "    if (ratio > 70):\n",
    "        return \"Ping\"\n",
    "    \n",
    "    elif (ratio < 50):\n",
    "        return \"Snap\"\n",
    "    else:\n",
    "        return \"Undefined\""
   ]
  },
  {
   "cell_type": "code",
   "execution_count": 132,
   "metadata": {},
   "outputs": [],
   "source": [
    "snapIndexesUnit7 = getSnapIndexes(unit7splicedArray, highAmpIndexesUnit7);\n",
    "snapIndexesUnit8 = getSnapIndexes(unit8splicedArray, highAmpIndexesUnit8);\n",
    "snapIndexesUnit13 = getSnapIndexes(unit13splicedArray, highAmpIndexesUnit13);\n",
    "snapIndexesUnit20 = getSnapIndexes(unit20splicedArray, highAmpIndexesUnit20);"
   ]
  },
  {
   "cell_type": "code",
   "execution_count": 133,
   "metadata": {},
   "outputs": [
    {
     "name": "stdout",
     "output_type": "stream",
     "text": [
      "849\n",
      "1543\n"
     ]
    }
   ],
   "source": [
    "#test\n",
    "print(len(snapIndexesUnit13))\n",
    "\n",
    "print(len(highAmpIndexesUnit13))\n"
   ]
  },
  {
   "cell_type": "code",
   "execution_count": 134,
   "metadata": {},
   "outputs": [
    {
     "name": "stdout",
     "output_type": "stream",
     "text": [
      "4585\n"
     ]
    }
   ],
   "source": [
    "#TODO: function that would look at the snapIndexes of the 4 files and \n",
    "#group the snaps\n",
    "\n",
    "#preliminarily making deltaT to be 70ms = 0.07s (both sides??)\n",
    "deltaTinIndexes =  int(0.07 * sampFreq)\n",
    "\n",
    "print(deltaTinIndexes)\n"
   ]
  },
  {
   "cell_type": "code",
   "execution_count": 135,
   "metadata": {},
   "outputs": [],
   "source": [
    "def snapPresent(snapIndexes, timeIndex):\n",
    "    for snapIndex in snapIndexes:\n",
    "        #print (snapIndex, timeIndex)\n",
    "        if(snapIndex - deltaTinIndexes > timeIndex):\n",
    "            break\n",
    "       \n",
    "        frontIndex = snapIndex - deltaTinIndexes \n",
    "        backIndex = snapIndex + deltaTinIndexes\n",
    "        \n",
    "        if (frontIndex < timeIndex and timeIndex < backIndex ):\n",
    "            return True\n",
    "    \n",
    "    return False"
   ]
  },
  {
   "cell_type": "code",
   "execution_count": 136,
   "metadata": {},
   "outputs": [],
   "source": [
    "def snapPresentInAll(snapIndexesUnit8, snapIndexesUnit13, snapIndexesUnit20, snapIndex):\n",
    "    presentIn8 = snapPresent(snapIndexesUnit8, snapIndex)\n",
    "    presentIn13 = snapPresent(snapIndexesUnit13, snapIndex)\n",
    "    presentIn20 = snapPresent(snapIndexesUnit20, snapIndex)\n",
    "    \n",
    "    #print(presentIn8, presentIn13, presentIn20)\n",
    "    return snapPresent(snapIndexesUnit8, snapIndex) and snapPresent(snapIndexesUnit13, snapIndex) and snapPresent(snapIndexesUnit20, snapIndex)\n",
    "         "
   ]
  },
  {
   "cell_type": "code",
   "execution_count": 137,
   "metadata": {},
   "outputs": [],
   "source": [
    "def plotAmplitude(snapIndex, ax, splicedArray):\n",
    "    frontIndex = int(snapIndex - deltaTinIndexes)\n",
    "    backIndex = int(snapIndex + deltaTinIndexes)\n",
    "    \n",
    "    #print(backIndex)\n",
    "    \n",
    "    #NOTE: I'm not sure if I'm splicing correctly here, only operate on the entire file now\n",
    "    xAxis = timeArrayInSeconds[frontIndex-startIndex:backIndex+startIndex]\n",
    "    yAxis = splicedArray[frontIndex:backIndex]\n",
    "    \n",
    "    ax.plot(xAxis, yAxis)\n",
    "    ax.set_xlabel('time [Seconds]', fontsize=5)\n",
    "    ax.set_ylabel('Amplitude', fontsize=5)\n",
    "    ax.tick_params(axis = 'both', labelsize = 5)\n",
    "    #ax.set_xlim(front, back)\n",
    "    #ax.margins(x=0)"
   ]
  },
  {
   "cell_type": "code",
   "execution_count": 138,
   "metadata": {},
   "outputs": [],
   "source": [
    "overlappingSnaps = [];\n",
    "#note: did not discard overlaps yet\n",
    "for snapIndex in snapIndexesUnit7:\n",
    "    #print(snapIndex)\n",
    "    if (snapPresentInAll(snapIndexesUnit8, snapIndexesUnit13, snapIndexesUnit20, snapIndex)):\n",
    "        overlappingSnaps.append(snapIndex)"
   ]
  },
  {
   "cell_type": "code",
   "execution_count": 139,
   "metadata": {},
   "outputs": [
    {
     "data": {
      "text/plain": [
       "344"
      ]
     },
     "execution_count": 139,
     "metadata": {},
     "output_type": "execute_result"
    }
   ],
   "source": [
    "len(overlappingSnaps)\n"
   ]
  },
  {
   "cell_type": "code",
   "execution_count": 140,
   "metadata": {},
   "outputs": [],
   "source": [
    "def markPeaks(snapIndex, ax, splicedArray):\n",
    "    \n",
    "    #extracting the signal from the bigger array\n",
    "    frontIndex = int(snapIndex - deltaTinIndexes)\n",
    "    backIndex = int(snapIndex + deltaTinIndexes)\n",
    "    signal = splicedArray[frontIndex:backIndex]\n",
    "    timeInIndexes = timeArrayInSeconds[frontIndex-startIndex:backIndex+startIndex]\n",
    "    \n",
    "    #enveloping the signal\n",
    "    analytic_signal = hilbert(signal)\n",
    "    envelopedSignal = np.abs(analytic_signal)\n",
    "    \n",
    "    #peakIndexes contain the indeces of all the peaks found in the signal snippet \n",
    "    peakIndexes = find_peaks_cwt(envelopedSignal, arange(1, 20), noise_perc = 50);\n",
    "    \n",
    "    #peakInfo will contain a list of tuples in the form of \n",
    "    #(<index of the peak>, <amplitude value of the enveloped signal peak>)\n",
    "    peakInfo=[]\n",
    "    \n",
    "    #populates the peakInfo\n",
    "    for i in peakIndexes:\n",
    "        data = (timeInIndexes[i],envelopedSignal[i])\n",
    "        peakInfo.append(data)\n",
    "    \n",
    "    #sorts the tuple_array by the 2nd element (which is the amplitude)\n",
    "    #so the leftmost element would be the peak with the highest\n",
    "    #amplitude value\n",
    "    peakInfo.sort(key = operator.itemgetter(1), reverse=True)\n",
    "    \n",
    "    #selected would contain the two highest amplitude peak \n",
    "    selected = []\n",
    "    \n",
    "    count = 0\n",
    "    index = peakInfo[0][0]\n",
    "    selected.append(peakInfo[0])\n",
    "    \n",
    "    #NOTE: DEADZONE VALUE UNPREDICTABLE\n",
    "    deadzone = 0.0005 \n",
    "    \n",
    "    for onePeakInfo in peakInfo:\n",
    "        if (onePeakInfo[0] > index + deadzone):\n",
    "            #ampPairs.append()\n",
    "            selected.append(onePeakInfo)\n",
    "            index = onePeakInfo[0]\n",
    "            count = count + 1\n",
    "        if (count == 1):\n",
    "            break;\n",
    "\n",
    "    index_list = [x[0] for x in selected]\n",
    "\n",
    "    amplitude_list = [x[1] for x in selected]\n",
    "    ax.scatter(index_list, amplitude_list, c ='r')\n",
    "    \n",
    "    \n",
    "    return selected\n",
    "    \n",
    "    "
   ]
  },
  {
   "cell_type": "code",
   "execution_count": 142,
   "metadata": {},
   "outputs": [],
   "source": [
    "for i in range(0, len(overlappingSnaps)):\n",
    "    fig, axes = plt.subplots(nrows=4, ncols=1)\n",
    "    fig.suptitle(\"Snap number %d\"%(i))\n",
    "   \n",
    "    fname ='../Plots/CorrelatedSnapsTest/%d. %f-%f.png'% (i, (overlappingSnaps[i] - deltaTinIndexes)/sampFreq, (overlappingSnaps[i] + deltaTinIndexes)/sampFreq)\n",
    "   \n",
    "    plotAmplitude(overlappingSnaps[i], axes[0], unit7splicedArray)\n",
    "    plotAmplitude(overlappingSnaps[i], axes[1], unit8splicedArray)\n",
    "    plotAmplitude(overlappingSnaps[i], axes[2], unit13splicedArray)\n",
    "    plotAmplitude(overlappingSnaps[i], axes[3], unit20splicedArray)\n",
    "    \n",
    "    markPeaks(overlappingSnaps[i], axes[0], unit7splicedArray)\n",
    "    markPeaks(overlappingSnaps[i], axes[1], unit8splicedArray)\n",
    "    markPeaks(overlappingSnaps[i], axes[2], unit13splicedArray)\n",
    "    markPeaks(overlappingSnaps[i], axes[3], unit20splicedArray)\n",
    "    \n",
    "    fig.savefig(fname, dpi = 300)\n",
    "    \n",
    "    \n",
    "    plt.close()\n",
    "    \n",
    "    "
   ]
  },
  {
   "cell_type": "code",
   "execution_count": null,
   "metadata": {},
   "outputs": [],
   "source": []
  },
  {
   "cell_type": "code",
   "execution_count": null,
   "metadata": {},
   "outputs": [],
   "source": []
  },
  {
   "cell_type": "code",
   "execution_count": null,
   "metadata": {},
   "outputs": [],
   "source": []
  }
 ],
 "metadata": {
  "kernelspec": {
   "display_name": "Python 3",
   "language": "python",
   "name": "python3"
  },
  "language_info": {
   "codemirror_mode": {
    "name": "ipython",
    "version": 3
   },
   "file_extension": ".py",
   "mimetype": "text/x-python",
   "name": "python",
   "nbconvert_exporter": "python",
   "pygments_lexer": "ipython3",
   "version": "3.6.4"
  }
 },
 "nbformat": 4,
 "nbformat_minor": 2
}
